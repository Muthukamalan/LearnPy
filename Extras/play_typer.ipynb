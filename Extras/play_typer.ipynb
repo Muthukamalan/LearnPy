{
 "cells": [
  {
   "cell_type": "code",
   "execution_count": 1,
   "metadata": {},
   "outputs": [],
   "source": [
    "import typer \n",
    "from rich.console import Console"
   ]
  },
  {
   "cell_type": "code",
   "execution_count": 2,
   "metadata": {},
   "outputs": [
    {
     "data": {
      "text/plain": [
       "click.exceptions.Exit()"
      ]
     },
     "execution_count": 2,
     "metadata": {},
     "output_type": "execute_result"
    }
   ],
   "source": [
    "typer.Exit(code=0)"
   ]
  },
  {
   "cell_type": "code",
   "execution_count": 3,
   "metadata": {},
   "outputs": [
    {
     "ename": "Exit",
     "evalue": "",
     "output_type": "error",
     "traceback": [
      "\u001b[1;31m---------------------------------------------------------------------------\u001b[0m",
      "\u001b[1;31mExit\u001b[0m                                      Traceback (most recent call last)",
      "Cell \u001b[1;32mIn[3], line 1\u001b[0m\n\u001b[1;32m----> 1\u001b[0m \u001b[38;5;28;01mraise\u001b[39;00m typer\u001b[38;5;241m.\u001b[39mExit(code\u001b[38;5;241m=\u001b[39m\u001b[38;5;241m501\u001b[39m)\n",
      "\u001b[1;31mExit\u001b[0m: "
     ]
    }
   ],
   "source": [
    "raise typer.Exit(code=501)"
   ]
  },
  {
   "cell_type": "code",
   "execution_count": null,
   "metadata": {},
   "outputs": [
    {
     "data": {
      "text/html": [
       "<pre style=\"white-space:pre;overflow-x:auto;line-height:normal;font-family:Menlo,'DejaVu Sans Mono',consolas,'Courier New',monospace\">Hello World, Here is an Error!!\n",
       "</pre>\n"
      ],
      "text/plain": [
       "Hello World, Here is an Error!!\n"
      ]
     },
     "metadata": {},
     "output_type": "display_data"
    }
   ],
   "source": [
    "Console().print('''Hello World, Here is an Error!!''')"
   ]
  },
  {
   "cell_type": "markdown",
   "metadata": {},
   "source": [
    "[typer series](https://www.youtube.com/watch?v=FPJZrUjS8D4&list=PLIO3UV9ODwNBZOh1nf8spd-YPb5b_JZZ2&index=1)\n",
    "\n",
    "[decorators](https://www.youtube.com/watch?v=6oJQ4CHU3MI)\n",
    "\n",
    "[faster r-cnn](https://www.youtube.com/@Explaining-AI/videos)"
   ]
  },
  {
   "cell_type": "code",
   "execution_count": null,
   "metadata": {},
   "outputs": [],
   "source": [
    "'''\n",
    "def main(name:str):\n",
    "    print(f\"Hello {name}\")\n",
    "if __name__=='__main__':\n",
    "    typer.run(main)\n",
    "'''\n",
    "app = typer.Typer(no_args_is_help=True)\n",
    "\n",
    "@app.command()\n",
    "def hello(name:str):\n",
    "    '''Use this method to say hello '''\n",
    "    print(f\"Hello {name}\")\n",
    "\n",
    "@app.command()\n",
    "def goodbye(name:str,formal:bool=False):\n",
    "    if formal:\n",
    "        print(f\"GoodBye, {name}, Have a great day!\")\n",
    "    else:\n",
    "        print(f\"bye, {name}\")\n",
    "    \n",
    "if __name__=='__main__':\n",
    "    app()\n"
   ]
  }
 ],
 "metadata": {
  "kernelspec": {
   "display_name": "venv",
   "language": "python",
   "name": "python3"
  },
  "language_info": {
   "codemirror_mode": {
    "name": "ipython",
    "version": 3
   },
   "file_extension": ".py",
   "mimetype": "text/x-python",
   "name": "python",
   "nbconvert_exporter": "python",
   "pygments_lexer": "ipython3",
   "version": "3.12.3"
  }
 },
 "nbformat": 4,
 "nbformat_minor": 2
}
